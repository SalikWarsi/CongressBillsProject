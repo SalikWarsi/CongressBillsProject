{
 "cells": [
  {
   "cell_type": "markdown",
   "metadata": {},
   "source": [
    "# Analysis of Congress Bills"
   ]
  },
  {
   "cell_type": "markdown",
   "metadata": {},
   "source": [
    "# Abstract\n",
    "The objective of the project is to look at the data of all bills introduced in United States Congress (both House of Representatives and the Senate) since 1973. I will be analyzing how many bills are introduced and what happens to these bills, as in whether they are passed into becoming a law or rejected in some stage before that. The project also aims to tackle whether the recent news about gridlock in congress is true and whether this has led to a lower amount of bills being successfully passed as law over this time period. Similarly, I would also look at the composition of the congress and the cosponsors of the bills to see if that affects them. Finally I would see if a bill being bipartisan has a higher chance of passing and whether we see changes in bipartisan support in the US congress.\n",
    "\n",
    "Through this Project I intend to give a mathematical idea to someone about what is the chance of bill they are interested in passing and getting enacted."
   ]
  },
  {
   "cell_type": "markdown",
   "metadata": {},
   "source": [
    "# Hypotheses\n",
    "\n",
    "I try to answer the following questions in this analysis:\n",
    "1. Has the number of bills introduced in Congress changed over the years?\n",
    "2. Has the ratio of Bills that are enacted into law changed over the years?\n",
    "3. What factors affect the chances of a bill? Does having more cosponsors lead to a higher chance of the bill getting passed in the originating chamber?\n",
    "4. Are bills more likely to pass if introduced by someone whose party has the majority in that chamber. Also are bills sponsored by minority members getting passed at a lower rate?\n",
    "5. Does having bipartisan support increase the odds of a bill's success? \n",
    "6. Finally is there a decrease in bipartisan support in the congress?"
   ]
  },
  {
   "cell_type": "markdown",
   "metadata": {},
   "source": [
    "# Data Sources\n",
    "\n",
    "My primary data Source will be ProPublica's data of all the bills introduced in Congress in each session: https://www.propublica.org/datastore/dataset/congressional-data-bulk-legislation-bills \n",
    "\n",
    "This data is Licensed under Probublica's [Terms of Use](https://www.propublica.org/datastore/terms) . However, I have mailed them and confirmed that I am allowed to republish their data.\n",
    "\n",
    "ProPublica have obtained this data from United States Github account (https://github.com/unitedstates) . As explained in https://github.com/unitedstates/congress/wiki/bills we only have data about all bills from 1973 onwards, as before that, the API only provides the data for bills that were enacted successfully. Also, there is a schema change from 2013 onwards which I will handle in my code.\n",
    "\n",
    "Apart from this I will be using data from https://github.com/unitedstates/congress-legislators , specifically :\n",
    "1. [Current legislators](https://theunitedstates.io/congress-legislators/legislators-current.csv)\n",
    "2. [Historic legislators](https://theunitedstates.io/congress-legislators/legislators-historical.csv)\n",
    "\n",
    "to find names and Political affiliation of the Legislators.\n",
    "\n",
    "All data from [@unitedstates](https://github.com/unitedstates) is Public Domain.\n"
   ]
  },
  {
   "cell_type": "markdown",
   "metadata": {},
   "source": [
    "# Data Acquisition\n",
    "\n",
    "Listed here is the steps for data acquisition. Note: This downloads the raw data. If you want, you can start from Data Analysis which starts from the processed data I had downloaded and cleaned.\n",
    "\n",
    "### Downloading Zipped Files\n",
    "The first step is to download the data from ProPublica. Unfortunately its too big for a github. However, I am providing the cleaned and processed data here in the Github. Also to promote Reproducibility, I have uploaded the Zip files that I got from ProPublica in a figshare: https://figshare.com/articles/US_Congress/5660815 DOI: https://doi.org/10.6084/m9.figshare.5660815.v1\n",
    "\n",
    "Here I am showing the instructions about how to download from the Official ProPublia Source.\n",
    "\n",
    "Note: Note: This data may be incorrect. Also for the 115th Congress (2017-18) it only contains bills that were introduced till 11/23/2017\n",
    "\n",
    "If this source is no longer avilable, please manually download from my Figshare given above and place the Files in a folder labeled \"ZippedData\" in the same folder this notebook is in."
   ]
  },
  {
   "cell_type": "markdown",
   "metadata": {},
   "source": [
    "Importing Libraries. Note some directories are imported repeatedly as its possible we might only want to run part of the code. "
   ]
  },
  {
   "cell_type": "code",
   "execution_count": 1,
   "metadata": {
    "collapsed": true
   },
   "outputs": [],
   "source": [
    "# Importing Libraries\n",
    "import urllib.request\n",
    "import os"
   ]
  },
  {
   "cell_type": "markdown",
   "metadata": {},
   "source": [
    "We first check if there is already folder called \"ZippedData\" which indicated that Zipped files have already been downloaded. If not this code then creates the url of each file similar to https://s3.amazonaws.com/pp-projects-static/congress/bills/CONGRESSNUMBER.zip where CONGRESSNUMBER varies from 93 (1973-1974 Congress) to 115 (2017-18 Congress)\n",
    "and downloads it, storing it in \"ZippedData/CONGRESSNUMBER.zip\""
   ]
  },
  {
   "cell_type": "code",
   "execution_count": 2,
   "metadata": {},
   "outputs": [
    {
     "name": "stdout",
     "output_type": "stream",
     "text": [
      "Downloading https://s3.amazonaws.com/pp-projects-static/congress/bills/93.zip to ZippedData/93.zip\n",
      "Downloading https://s3.amazonaws.com/pp-projects-static/congress/bills/94.zip to ZippedData/94.zip\n",
      "Downloading https://s3.amazonaws.com/pp-projects-static/congress/bills/95.zip to ZippedData/95.zip\n",
      "Downloading https://s3.amazonaws.com/pp-projects-static/congress/bills/96.zip to ZippedData/96.zip\n",
      "Downloading https://s3.amazonaws.com/pp-projects-static/congress/bills/97.zip to ZippedData/97.zip\n",
      "Downloading https://s3.amazonaws.com/pp-projects-static/congress/bills/98.zip to ZippedData/98.zip\n",
      "Downloading https://s3.amazonaws.com/pp-projects-static/congress/bills/99.zip to ZippedData/99.zip\n",
      "Downloading https://s3.amazonaws.com/pp-projects-static/congress/bills/100.zip to ZippedData/100.zip\n",
      "Downloading https://s3.amazonaws.com/pp-projects-static/congress/bills/101.zip to ZippedData/101.zip\n",
      "Downloading https://s3.amazonaws.com/pp-projects-static/congress/bills/102.zip to ZippedData/102.zip\n",
      "Downloading https://s3.amazonaws.com/pp-projects-static/congress/bills/103.zip to ZippedData/103.zip\n",
      "Downloading https://s3.amazonaws.com/pp-projects-static/congress/bills/104.zip to ZippedData/104.zip\n",
      "Downloading https://s3.amazonaws.com/pp-projects-static/congress/bills/105.zip to ZippedData/105.zip\n",
      "Downloading https://s3.amazonaws.com/pp-projects-static/congress/bills/106.zip to ZippedData/106.zip\n",
      "Downloading https://s3.amazonaws.com/pp-projects-static/congress/bills/107.zip to ZippedData/107.zip\n",
      "Downloading https://s3.amazonaws.com/pp-projects-static/congress/bills/108.zip to ZippedData/108.zip\n",
      "Downloading https://s3.amazonaws.com/pp-projects-static/congress/bills/109.zip to ZippedData/109.zip\n",
      "Downloading https://s3.amazonaws.com/pp-projects-static/congress/bills/110.zip to ZippedData/110.zip\n",
      "Downloading https://s3.amazonaws.com/pp-projects-static/congress/bills/111.zip to ZippedData/111.zip\n",
      "Downloading https://s3.amazonaws.com/pp-projects-static/congress/bills/112.zip to ZippedData/112.zip\n",
      "Downloading https://s3.amazonaws.com/pp-projects-static/congress/bills/113.zip to ZippedData/113.zip\n",
      "Downloading https://s3.amazonaws.com/pp-projects-static/congress/bills/114.zip to ZippedData/114.zip\n",
      "Downloading https://s3.amazonaws.com/pp-projects-static/congress/bills/115.zip to ZippedData/115.zip\n"
     ]
    }
   ],
   "source": [
    "# Get all Directories in current folder\n",
    "directories = os.listdir(\".\")\n",
    "\n",
    "# If \"ZippedData\" is no present download\n",
    "if (\"ZippedData\" not in directories):\n",
    "    # Make the directory \"ZippedData\"\n",
    "    os.mkdir(\"ZippedData\")\n",
    "    # Download file for each data and store in \"ZippedData/CONGRESSNUMBER.zip\n",
    "    for congress in range(93,116):\n",
    "        url = \"https://s3.amazonaws.com/pp-projects-static/congress/bills/\" + str(congress) + \".zip\"\n",
    "        fileLocation = \"ZippedData/\" + str(congress) + \".zip\"\n",
    "        print(\"Downloading\", url, \"to\", fileLocation)\n",
    "        urllib.request.urlretrieve(url, fileLocation)"
   ]
  },
  {
   "cell_type": "markdown",
   "metadata": {},
   "source": [
    "### Unzipping Files\n",
    "This step assumes that you have either run the above steps to download the Zipped Data files from ProPublica or alternatively from my Figshare and stored them in the folder \"ZippedData\"\n",
    "\n",
    "We now run the following script to unzip these files in the Folder \"UnzippedData\".\n",
    "\n",
    "We first check if this folder already exists, which indicates that we have already run this step. If it doesnt, this script goes to each of the files: \"ZippedData/CONGRESSNUMBER.zip\" and unzips them into Folder UnzippedData/CONGRESSNUMBER.\n",
    "\n",
    "**Note: This takes some time, so only run it once**"
   ]
  },
  {
   "cell_type": "code",
   "execution_count": 5,
   "metadata": {},
   "outputs": [
    {
     "name": "stdout",
     "output_type": "stream",
     "text": [
      "Unzipping Congress 93\n",
      "Unzipping Congress 94\n",
      "Unzipping Congress 95\n",
      "Unzipping Congress 96\n",
      "Unzipping Congress 97\n",
      "Unzipping Congress 98\n",
      "Unzipping Congress 99\n",
      "Unzipping Congress 100\n",
      "Unzipping Congress 101\n",
      "Unzipping Congress 102\n",
      "Unzipping Congress 103\n",
      "Unzipping Congress 104\n",
      "Unzipping Congress 105\n",
      "Unzipping Congress 106\n",
      "Unzipping Congress 107\n",
      "Unzipping Congress 108\n",
      "Unzipping Congress 109\n",
      "Unzipping Congress 110\n",
      "Unzipping Congress 111\n",
      "Unzipping Congress 112\n",
      "Unzipping Congress 113\n",
      "Unzipping Congress 114\n",
      "Unzipping Congress 115\n"
     ]
    }
   ],
   "source": [
    "#Unzipping\n",
    "#Importing Libraries\n",
    "import zipfile\n",
    "import os\n",
    "\n",
    "# If \"UnzippedData\" is no present download\n",
    "directories = os.listdir(\".\")\n",
    "if (\"UnzippedData\" not in directories):\n",
    "    # Create UnzippedData\n",
    "    os.mkdir(\"UnzippedData\")\n",
    "    # Unzip File ZippedData/CONGRESSNUMBER.zip to Folder UnzippedData/CONGRESSNUMBER\n",
    "    for congress in range(93, 116):\n",
    "        print(\"Unzipping Congress\", congress)\n",
    "        fileLocation = \"ZippedData/\" + str(congress) + \".zip\"\n",
    "        UnzippedLocation = \"UnzippedData/\" + str(congress)\n",
    "        with zipfile.ZipFile(fileLocation, \"r\") as zip_ref:\n",
    "            zip_ref.extractall(UnzippedLocation)"
   ]
  },
  {
   "cell_type": "markdown",
   "metadata": {},
   "source": [
    "### Additional Data\n",
    "Finally we download the data about each of the legislators from [@unitedstates](https://github.com/unitedstates) GitHub. We check if the folder AdditionalData exists and if not we download the files. These 2 files are a part of this Github."
   ]
  },
  {
   "cell_type": "code",
   "execution_count": 6,
   "metadata": {},
   "outputs": [
    {
     "data": {
      "text/plain": [
       "('AdditionalData/HistoricLegislators.csv',\n",
       " <http.client.HTTPMessage at 0x2070595f470>)"
      ]
     },
     "execution_count": 6,
     "metadata": {},
     "output_type": "execute_result"
    }
   ],
   "source": [
    "currentLegislators = \"https://theunitedstates.io/congress-legislators/legislators-current.csv\"\n",
    "historicLegislators = \"https://theunitedstates.io/congress-legislators/legislators-historical.csv\"\n",
    "\n",
    "if (\"AdditionalData\" not in os.listdir(\".\")):\n",
    "    os.mkdir(\"AdditionalData\")\n",
    "urllib.request.urlretrieve(currentLegislators, \"AdditionalData/CurrentLegislators.csv\")\n",
    "urllib.request.urlretrieve(historicLegislators, \"AdditionalData/HistoricLegislators.csv\")"
   ]
  },
  {
   "cell_type": "markdown",
   "metadata": {},
   "source": [
    "### Manual Data\n",
    "Apart from this, I also required the composition of the congress after each election,nI created this manually using data from Wikipedia.\n",
    "\n",
    "**Note: Its possible for congressmen to resign or otherwise be unable to continue their work during a session and therefore this might change. I am only considering the compositon of the House of Representatives and Senators as it was when the Congress started.**\n",
    "\n",
    "This data is tored under **ManualData/CongressMembership_1973-2017.csv**"
   ]
  },
  {
   "cell_type": "markdown",
   "metadata": {},
   "source": [
    "# Data Processing\n",
    "Therefore we have the following Sources data sources:\n",
    "1. Data about each of the bills introduced in Congress in the form of JSON files. As stated earlier there is a schema change from 2013 onwards which I will handle\n",
    "2. Political status of each congress man from US Github\n",
    "3. Composition of each congress from 1973 onwards, manually created by me\n",
    "\n",
    "Now I will read each of them one by one and combine into one data set for analysis"
   ]
  },
  {
   "cell_type": "markdown",
   "metadata": {},
   "source": [
    "### Political Affiliation of each Congress man\n",
    "We have data from US Github about each Member of the House and Senate. We use this to find the political affiliation of the Legislators.\n",
    "\n",
    "Its possible for a legislator to change their ID. In that case this data just contains the most recent one.\n",
    "\n",
    "There are 2 separate IDs used to uniquely ID a member:\n",
    "* Thomas_Id : Used for data before 2013\n",
    "* BioGuide_Id : Used after 2013\n",
    "\n",
    "We have 2 files \n",
    "* CurrentLegislators.csv: All Active Legislators as of 12/2/2017\n",
    "* HistoricLegislators.csv: All Legislators who stopped working before 12/2/2017\n",
    "\n",
    "Both of them contain a ThomasId or BioGuideId for each legislator. Therefore we create a Dictionary to extract this information. Since for our sake both IDs work the same way, we can just create one Dictionary that maps both IDs to the Political Party of the Legislator"
   ]
  },
  {
   "cell_type": "code",
   "execution_count": 8,
   "metadata": {},
   "outputs": [],
   "source": [
    "# Importing Libraries\n",
    "import pandas as pd\n",
    "\n",
    "#Dictionary to map the Id to the Political Party\n",
    "# Creating an empty dictionary\n",
    "IdPartyDict = {}\n",
    "\n",
    "#Reading the Current Legislators\n",
    "CurrentLegislators = pd.read_csv('AdditionalData/CurrentLegislators.csv')\n",
    "for index, row in CurrentLegislators.iterrows():\n",
    "    #If Thomas Id is present, add a dictionary entry to map thomas id to Political Party\n",
    "    if(pd.isnull(row['thomas_id']) == False):\n",
    "        IdPartyDict[row['thomas_id']] = row['party']\n",
    "    #If BioGuide Id is present, add a dictionary entry to map BioGuide id to Political Party\n",
    "    if (pd.isnull(row['bioguide_id']) == False):\n",
    "        IdPartyDict[row['bioguide_id']] = row['party']\n",
    "\n",
    "#Read the Historic Legislators\n",
    "HistoricLegislators = pd.read_csv('AdditionalData/HistoricLegislators.csv')\n",
    "for index, row in HistoricLegislators.iterrows():\n",
    "    #If Thomas Id is present, add a dictionary entry to map thomas id to Political Party\n",
    "    if(pd.isnull(row['thomas_id']) == False):\n",
    "        IdPartyDict[row['thomas_id']] = row['party']\n",
    "    #If BioGuide Id is present, add a dictionary entry to map BioGuide id to Political Party\n",
    "    if (pd.isnull(row['bioguide_id']) == False):\n",
    "        IdPartyDict[row['bioguide_id']] = row['party']"
   ]
  },
  {
   "cell_type": "markdown",
   "metadata": {},
   "source": [
    "Now we define a function that uses the Dictionary: IdPartyDict to return the Political Party of the LEgislator given either the ThomasId or BioGuideId. Note: Sometimes the Party is listed as an affiliated party, however it can still be classified as member of th 2 main parties. For example as per Wikipedia all members of the Democrat-Liberal party were members of the Democrat party and similarly for the Republican-Conservative party. Note: This doesn't apply to all Third Party mentioned in the dataset from 1973 onwards. Specifically, the following affiliations I am counting as belonging to Other (Or none of the 2 main parties):\n",
    "\n",
    "* Independent\n",
    "* New Progressive\n",
    "* Popular Democrat\n",
    "\n",
    "The last 2 here are actually Puerto Rican members whose political affiliation is not defined under either of the 2 parties. Independents are those who choose to affiliate with none of the Political Parties."
   ]
  },
  {
   "cell_type": "code",
   "execution_count": 13,
   "metadata": {
    "collapsed": true
   },
   "outputs": [],
   "source": [
    "def GetSimplifiedParty(party):\n",
    "    \"\"\"\n",
    "    Return the Simplified Party as one of the 2 main parties or an other\n",
    "    \"\"\"\n",
    "    if (party == 'Democrat' or party == 'Democrat-Liberal'):\n",
    "        return 'Democrat'\n",
    "    if (party == 'Republican' or party == 'Republican-Conservative' or party == 'Conservative'):\n",
    "        return 'Republican'\n",
    "    return 'Other'\n",
    "\n",
    "def GetPartyFromId(id):\n",
    "    \"\"\"\n",
    "    Given Either the Thomas Id or the BioGuideId\n",
    "    This Function returns the Political Party (as either Democrat, Republican or Other)\n",
    "    \"\"\"\n",
    "    if (id in IdPartyDict):\n",
    "        party = GetSimplifiedParty(IdPartyDict[id])\n",
    "    else:\n",
    "        #If not found in dictionary return empty string\n",
    "        party = \"\"\n",
    "    return party"
   ]
  },
  {
   "cell_type": "markdown",
   "metadata": {},
   "source": [
    "### Bills data (JSON)\n",
    "Each bill islisted under its own folder as Data.JSON. Note: As explained in https://github.com/unitedstates/congress/wiki/bills There a 8 possible bills which can be introduced in Congress:\n",
    "\n",
    "Bills introduced in the House of Representative:\n",
    "* HR: Bills introduced in the House of Representative\n",
    "* HRes : House Resolution\n",
    "* HJres: House Joint Resolution\n",
    "* Hconres: House Concurrent Resolution\n",
    "\n",
    "Bills introduced in the Senate:\n",
    "* S: Bills introduced in the Senate\n",
    "* SRes: Senate Resolution\n",
    "* SJres: Senate Joint Resolution\n",
    "* Sconres: Senate Concurrent Resolution\n",
    "\n",
    "Simple Resolutions (SRes and Hres) and Concurrent Resolutions don't have the power of a law. Joint Resolution can become law or even be used to pass an amendment. However for this project I am limiting myself to Simple Bills (HR and S). However I will be creating a dataset which includes all the bills in case we need to do additional analysis."
   ]
  },
  {
   "cell_type": "markdown",
   "metadata": {},
   "source": [
    "The JSON file has a scheme which contains the following data points which we we will Extract:\n",
    "* status : This the final status of the bill and it can be used to extract if it passed, was vetoed, became law, etc\n",
    "* cosponsors: This a list of members of that house/Senate who cosponsored that bill. We will use to get count of Cosponsors and also the party id for each cosponsor so we can get a count of Democraratic and Republican cosponsor\n",
    "* sponsor: This is the sponsor of the Bill. Note: this doesn't need to be the person who introduced the bill as this may change during its passage. Here we include the latest sponsor. A bill can have at most oone sponsor\n",
    "* subjects_top_term: This is the main subject assigned to a bill. We will use for some AdHoc analysis later if required.\n",
    "\n",
    "Finally the Path of the JSON file will tell us the type of the bill and its number.Before 2013 the path would be like:\n",
    "\n",
    "\"UnzippedData/CONGRESSNUMBER/bills/BILLTYPE/BILLNUMBER/data.json\"\n",
    "\n",
    "After 2013, due to schema change as the US Congress moved from one System to another, the paths unzipped changes to\n",
    "\n",
    "\"UnzippedData/CONGRESSNUMBER/congress/data/CONGRESSNUMBER/bills/BILLTYPE/BILLNUMBER/data.json\"\n",
    "\n",
    "In both cases:\n",
    "* CONGRESSNUMBER: Number of the Congress (from 93 to 115)\n",
    "* BILLTYPE : hr,hres,hjres,hconres,s,sres,sjres or sconres as explained above\n",
    "* BILLNUMBER: Number of the bill. So for HR bill number 192, the number of it would be HR192\n",
    "\n",
    "**Note: Within a congess session, a bill is uniquely identified by its number. However each new congress starts the numbering again. So there would be only one HR192 in 96th Congress but there might be another HR192 in the 97th Congress**\n"
   ]
  },
  {
   "cell_type": "markdown",
   "metadata": {},
   "source": [
    "We now parse the file structure, listing all the directories and for each of the directories in UnZippedData, for each of the Congresses, finad all the Bills and read them one by one.We first define the different possible bill types in a list"
   ]
  },
  {
   "cell_type": "code",
   "execution_count": 10,
   "metadata": {
    "collapsed": true
   },
   "outputs": [],
   "source": [
    "# The possible types of Bills\n",
    "types = [\"hconres\", \"hjres\", \"hr\", \"hres\", \"s\", \"sconres\", \"sjres\", \"sres\" ]"
   ]
  },
  {
   "cell_type": "markdown",
   "metadata": {},
   "source": [
    "Finally to create a data frame ( a python table) to have all the information, I am creating a list for each type of the information"
   ]
  },
  {
   "cell_type": "code",
   "execution_count": 14,
   "metadata": {
    "collapsed": true
   },
   "outputs": [],
   "source": [
    "#Status of the bill\n",
    "statusesList = []\n",
    "#Type of the bill\n",
    "typesList = []\n",
    "# Number of Congress\n",
    "congressesList = []\n",
    "#Number  of the bill\n",
    "billList = []\n",
    "#Count of Cosponsors\n",
    "cosponsorCountList = []\n",
    "# Political Party of the lead sponsor\n",
    "sponserPartyList = []\n",
    "# Number of Democrat Cospnsors of the bill\n",
    "DemocratCount = []\n",
    "# Number of Republican Cosponsors of the bill\n",
    "RepublicanCount = []\n",
    "#Main Subject  of the bill\n",
    "SubjectsList = []"
   ]
  },
  {
   "cell_type": "markdown",
   "metadata": {},
   "source": [
    "Finally we now iterate over each of the congress and for each congress, we go over the different types of the bill and for each bill that we find we create a new entry in each of the above lists for that information.\n",
    "\n",
    "We first create path of the bill. Then we read it as a JSON file. From this JSON file we extrac the information and add it to the corresponding lists"
   ]
  },
  {
   "cell_type": "code",
   "execution_count": 15,
   "metadata": {},
   "outputs": [
    {
     "name": "stdout",
     "output_type": "stream",
     "text": [
      "Reading Congress 93\n",
      "Reading Congress 94\n",
      "Reading Congress 95\n",
      "Reading Congress 96\n",
      "Reading Congress 97\n",
      "Reading Congress 98\n",
      "Reading Congress 99\n",
      "Reading Congress 100\n",
      "Reading Congress 101\n",
      "Reading Congress 102\n",
      "Reading Congress 103\n",
      "Reading Congress 104\n",
      "Reading Congress 105\n",
      "Reading Congress 106\n",
      "Reading Congress 107\n",
      "Reading Congress 108\n",
      "Reading Congress 109\n",
      "Reading Congress 110\n",
      "Reading Congress 111\n",
      "Reading Congress 112\n",
      "Reading Congress 113\n",
      "File Not Found UnzippedData/113/congress/data/113/bills/s/s1696/data.json\n",
      "File Not Found UnzippedData/113/congress/data/113/bills/sjres/sjres10/data.json\n",
      "Reading Congress 114\n",
      "File Not Found UnzippedData/114/congress/data/114/bills/hr/hr154/data.json\n",
      "File Not Found UnzippedData/114/congress/data/114/bills/hr/hr158/data.json\n",
      "File Not Found UnzippedData/114/congress/data/114/bills/hr/hr160/data.json\n",
      "File Not Found UnzippedData/114/congress/data/114/bills/hr/hr169/data.json\n",
      "File Not Found UnzippedData/114/congress/data/114/bills/hr/hr174/data.json\n",
      "File Not Found UnzippedData/114/congress/data/114/bills/hr/hr24/data.json\n",
      "File Not Found UnzippedData/114/congress/data/114/bills/hr/hr30/data.json\n",
      "File Not Found UnzippedData/114/congress/data/114/bills/hr/hr36/data.json\n",
      "File Not Found UnzippedData/114/congress/data/114/bills/hr/hr91/data.json\n",
      "File Not Found UnzippedData/114/congress/data/114/bills/hres/hres12/data.json\n",
      "Reading Congress 115\n"
     ]
    }
   ],
   "source": [
    "#Importing Libraries\n",
    "import os\n",
    "import json\n",
    "import pandas as pd\n",
    "\n",
    "#Iterate each congress from 93 to 115\n",
    "for congress in range(93, 116):\n",
    "    print(\"Reading Congress\", congress)\n",
    "    # Iterate over each of the bill type\n",
    "    for type in types:\n",
    "        # Handle schema change from the 113th congress\n",
    "        if ( congress < 113):\n",
    "            pathdir = \"UnzippedData/\" + str(congress) + \"/bills/\" + type\n",
    "        else:\n",
    "            pathdir = \"UnzippedData/\" + str(congress) + \"/congress/data/\" + str(congress) + \"/bills/\" + type\n",
    "        # Each Directory in UnZippedData/CONGRESSNUMBER/BILLTYPE is a new bill\n",
    "        # Iterate over each bill\n",
    "        bills = os.listdir(pathdir)\n",
    "        for bill in bills:\n",
    "            # Create path of the bill JSON file to be read\n",
    "            fileName = pathdir + \"/\" + bill + \"/data.json\"\n",
    "            try:\n",
    "                # Read file as a JSON file\n",
    "                with open(fileName, 'r') as fileName:\n",
    "                    data = json.load(fileName)\n",
    "                # Extract the status\n",
    "                status = data[\"status\"]\n",
    "                # CoSponsor Count is length of the cosponsors count\n",
    "                cosponsorCount = len(data[\"cosponsors\"])\n",
    "                # Initialize the cosponsor counts as 0 for both parties\n",
    "                democratCosponsers = 0\n",
    "                republicanCosponsers = 0\n",
    "                for cosponsor in data[\"cosponsors\"]:\n",
    "                    # For Each cosponser, use the ID to find their Political Party\n",
    "                    if (congress < 113):\n",
    "                        # Before 2013 or the 113th congress use the Thomas Id\n",
    "                        thomasId = int(cosponsor[\"thomas_id\"])\n",
    "                        cosponserParty = GetPartyFromId(thomasId)\n",
    "                    else:\n",
    "                        # From 113th Congress use the bioguideId\n",
    "                        bioguideId = cosponsor[\"bioguide_id\"]\n",
    "                        cosponserParty = GetPartyFromId(bioguideId)\n",
    "                    #Increment the corresponding Count\n",
    "                    if(cosponserParty == \"Democrat\"):\n",
    "                        democratCosponsers = democratCosponsers + 1\n",
    "                    elif(cosponserParty == \"Republican\"):\n",
    "                        republicanCosponsers = republicanCosponsers + 1\n",
    "                #If sponsor is null add an empty string\n",
    "                #Othewise use the correct ID to find the Polotical Affiliation of the sponsor\n",
    "                if(data[\"sponsor\"] == None):\n",
    "                    sponserParty = \"\"\n",
    "                elif (congress < 113):\n",
    "                    thomasId = int(data[\"sponsor\"][\"thomas_id\"])\n",
    "                    sponserParty = GetPartyFromId(thomasId)\n",
    "                else:\n",
    "                    bioguideId = data[\"sponsor\"][\"bioguide_id\"]\n",
    "                    sponserParty = GetPartyFromId(bioguideId)\n",
    "                # Obtain the Subject of the Bill\n",
    "                subject = data['subjects_top_term']\n",
    "                \n",
    "                # Add all the extracted information to the correct List\n",
    "                statusesList.append(status)\n",
    "                congressesList.append(congress)\n",
    "                typesList.append(type)\n",
    "                billList.append(bill)\n",
    "                cosponsorCountList.append(cosponsorCount)\n",
    "                sponserPartyList.append(sponserParty)\n",
    "                DemocratCount.append(democratCosponsers)\n",
    "                RepublicanCount.append(republicanCosponsers)\n",
    "                SubjectsList.append(subject)\n",
    "            except:\n",
    "                # If file not found, print its name so I can manually check it\n",
    "                print(\"File Not Found\", fileName)"
   ]
  },
  {
   "cell_type": "markdown",
   "metadata": {},
   "source": [
    "Some files are listed as not Found . I manually checked and indeed these ones are missing. Therefore I am excluding them from my analysis.\n",
    "\n",
    "Finally we combine these Lists into a Panda Data frame and write it as an intermediate file: \"CleanedData/CongressBills_Temp.csv\".\n"
   ]
  },
  {
   "cell_type": "code",
   "execution_count": 29,
   "metadata": {
    "collapsed": true
   },
   "outputs": [],
   "source": [
    "# If cleaned Data is not present as a directory, create it\n",
    "if (\"CleanedData\" not in os.listdir(\".\")):\n",
    "    os.mkdir(\"CleanedData\")\n",
    "\n",
    "# Combine the list to create a data frame\n",
    "dataFrame = pd.DataFrame([congressesList, billList, typesList, statusesList, cosponsorCountList,\n",
    "                          sponserPartyList, DemocratCount, RepublicanCount, SubjectsList]).T\n",
    "dataFrame.columns = [\"Congress\", \"Bill\", \"Type\", \"Status\", \"CosponsorCount\", \"SponsorParty\", \"DemocratCoSponsers\", \"RepublicanCoSponsers\",\n",
    "                     \"Subject\"]\n",
    "\n",
    "#Write Data Frame\n",
    "dataFrame.to_csv('CleanedData/CongressBills_Temp.csv',index=False)"
   ]
  },
  {
   "cell_type": "markdown",
   "metadata": {},
   "source": [
    "### Further Processing and Adding the Manual Data\n",
    "\n",
    "Now for my analysis, I first Group the states of bill into 4 different results:\n",
    "1. Enacted: The bill in enacted into a law. For a simple resolution getting passed by One Chamber automatically enacts, while a concurrent resolution gets enacted as soon as both Chambers pass it. Neither requires a Signature of the President. The Bill Resolutions (HR and S) and the Joint Resolutions only get enacted when they become law.\n",
    "2. Passed: Passed only by the Original Chamber, it was introduced in but it did not get enacted. As Simple Resolutions are enacted as soon they passed they don't belong in this group. This could happen when the other chamber doesn't pass it\n",
    "3. Vetoed: Passed by Both Chambers but Vetoed by The President. This is only passible for Law Bills (Hr, S, SJres, HJres). If however the veto gets overriden I classify it as Enacted and not vetoed.\n",
    "4. Not Passed: The bill did not pass even the original chamber. This might mean it either failed the vote or it didn't even reach a vote.\n",
    "\n",
    "**Note: I was earlier dividing the Not Passed category as those which did not reach the vote and those which failed the vote. However I read that most bills which are likely to fail the vote don't get called for a vote quite often. Therefore making this differentiation difficult**\n",
    "\n",
    "The following function calculates this result, based on the status. I used this https://github.com/unitedstates/congress/wiki/bills to help me understand what each status meant:"
   ]
  },
  {
   "cell_type": "code",
   "execution_count": 30,
   "metadata": {
    "collapsed": true
   },
   "outputs": [],
   "source": [
    "def GetResult(status):\n",
    "    \"\"\"\n",
    "    Function accepts a status and returns the result as Enacted,Passed,Vetoed or Not Passed\n",
    "    \"\"\"\n",
    "    if (status in [\"PASS_OVER:HOUSE\",\n",
    "                   \"PASS_OVER:SENATE\",\n",
    "                   \"PASS_BACK:HOUSE\",\n",
    "                   \"PASS_BACK:SENATE\",\n",
    "                   \"PASSED:BILL\",\n",
    "                   \"CONFERENCE:PASSED:HOUSE\",\n",
    "                   \"CONFERENCE:PASSED:SENATE\",\n",
    "                   \"FAIL:SECOND:HOUSE\",\n",
    "                   \"FAIL:SECOND:SENATE\"]):\n",
    "        return \"Passed\"\n",
    "    if (status in [\"ENACTED:SIGNED\",\n",
    "                   \"ENACTED:VETO_OVERRIDE\",\n",
    "                   \"ENACTED:TENDAYRULE\",\n",
    "                   \"PASSED:SIMPLERES\",\n",
    "                   \"PASSED:CONSTAMEND\",\n",
    "                   \"PASSED:CONCURRENTRES\"]):\n",
    "        return \"Enacted\"\n",
    "    if (status in [\"PROV_KILL:VETO\",\n",
    "                   \"VETOED:POCKET\",\n",
    "                   \"VETOED:OVERRIDE_FAIL_ORIGINATING:HOUSE\",\n",
    "                   \"VETOED:OVERRIDE_FAIL_ORIGINATING:SENATE\",\n",
    "                   \"VETOED:OVERRIDE_PASS_OVER:HOUSE\",\n",
    "                   \"VETOED:OVERRIDE_PASS_OVER:SENATE\",\n",
    "                   \"VETOED:OVERRIDE_FAIL_SECOND:HOUSE\",\n",
    "                   \"VETOED:OVERRIDE_FAIL_SECOND:SENATE\"]):\n",
    "        return \"Vetoed\"\n",
    "    return \"Not Passed\""
   ]
  },
  {
   "cell_type": "markdown",
   "metadata": {},
   "source": [
    "Now I read the manual data I created earlier. and print it here"
   ]
  },
  {
   "cell_type": "code",
   "execution_count": 327,
   "metadata": {},
   "outputs": [
    {
     "name": "stdout",
     "output_type": "stream",
     "text": [
      "    Congress  DemocratHouse  RepublicanHouse  OtherHouse  DemocratSenate  \\\n",
      "0         93            242              192           1              56   \n",
      "1         94            291              144           0              60   \n",
      "2         95            292              143           0              61   \n",
      "3         96            277              158           0              59   \n",
      "4         97            243              192           0              43   \n",
      "5         98            269              166           0              46   \n",
      "6         99            253              182           0              47   \n",
      "7        100            258              177           0              55   \n",
      "8        101            260              175           0              55   \n",
      "9        102            267              167           1              56   \n",
      "10       103            258              176           1              56   \n",
      "11       104            204              230           1              48   \n",
      "12       105            207              226           2              45   \n",
      "13       106            211              223           1              45   \n",
      "14       107            212              221           2              50   \n",
      "15       108            205              229           1              48   \n",
      "16       109            202              232           1              44   \n",
      "17       110            233              202           0              49   \n",
      "18       111            257              178           0              57   \n",
      "19       112            193              242           0              51   \n",
      "20       113            201              234           0              53   \n",
      "21       114            188              247           0              44   \n",
      "22       115            194              241           0              46   \n",
      "\n",
      "    RepublicanSenate  OtherSenate  Presidency  Year  \n",
      "0                 42            2  Republican  1973  \n",
      "1                 38            2  Republican  1975  \n",
      "2                 38            1    Democrat  1977  \n",
      "3                 40            1    Democrat  1979  \n",
      "4                 56            1  Republican  1981  \n",
      "5                 54            0  Republican  1983  \n",
      "6                 53            0  Republican  1985  \n",
      "7                 45            0  Republican  1987  \n",
      "8                 45            0  Republican  1989  \n",
      "9                 44            0  Republican  1991  \n",
      "10                44            0    Democrat  1993  \n",
      "11                52            0    Democrat  1995  \n",
      "12                55            0    Democrat  1997  \n",
      "13                55            0    Democrat  1999  \n",
      "14                50            0  Republican  2001  \n",
      "15                51            1  Republican  2003  \n",
      "16                55            1  Republican  2005  \n",
      "17                49            2  Republican  2007  \n",
      "18                41            2    Democrat  2009  \n",
      "19                47            2    Democrat  2011  \n",
      "20                45            2    Democrat  2013  \n",
      "21                54            2    Democrat  2015  \n",
      "22                52            2  Republican  2017  \n"
     ]
    }
   ],
   "source": [
    "#Read and print the composition of each Congress\n",
    "Composition = pd.read_csv('ManualData/CongressMembership_1973-2017.csv')\n",
    "\n",
    "print(Composition)"
   ]
  },
  {
   "cell_type": "markdown",
   "metadata": {},
   "source": [
    "The columns in this Manual data are as follows:\n",
    "* Congress: Congress Number\n",
    "* DemocratHouse: Democrat members of the House of Representatives\n",
    "* RepublicanHouse: Republican members of the House of Representatives\n",
    "* OtherHouse: Members of the House of Representatives belonging to neither party\n",
    "* DemocratSenate: Democrat members of the Senate\n",
    "* RepublicanSenate: Republican members of the Senate\n",
    "* OtherSenate: Members of the Senate belonging to neither party\n",
    "* Presidency: Party of the President\n",
    "* Year: First year of that congress\n",
    "\n",
    "Now Lets read the intermediate file we wrote earlier and join the Result as well as the manually created columns."
   ]
  },
  {
   "cell_type": "code",
   "execution_count": 328,
   "metadata": {
    "collapsed": true
   },
   "outputs": [],
   "source": [
    "Bills = pd.read_csv('CleanedData/CongressBills_Temp.csv')\n",
    "\n",
    "#Caluculating Result\n",
    "Bills = Bills.assign(Result = pd.Series(Bills[\"Status\"].map(GetResult)).values)"
   ]
  },
  {
   "cell_type": "code",
   "execution_count": 329,
   "metadata": {
    "collapsed": true
   },
   "outputs": [],
   "source": [
    "#Doing an  Inner join with the composition of each congress\n",
    "Bills = Bills.merge(Composition, left_on='Congress', right_on='Congress', how='inner')"
   ]
  },
  {
   "cell_type": "markdown",
   "metadata": {},
   "source": [
    "Now based on the type of the Bill,lets set its chamber as either the House or the Senate."
   ]
  },
  {
   "cell_type": "code",
   "execution_count": 330,
   "metadata": {},
   "outputs": [],
   "source": [
    "def GetChamber(type):\n",
    "    \"\"\"\n",
    "    Return the Originating Chamber of the bill\n",
    "    \"\"\"\n",
    "    if type in([\"hconres\", \"hjres\", \"hr\", \"hres\",]):\n",
    "        return \"House\"\n",
    "    else:\n",
    "        return \"Senate\"\n",
    "    \n",
    "#Adding the Originaing Chamber of the bill\n",
    "Bills = Bills.assign(Chamber = pd.Series(Bills[\"Type\"].map(GetChamber)).values)"
   ]
  },
  {
   "cell_type": "markdown",
   "metadata": {},
   "source": [
    "Let's output This to a CSV file **CleanedData/CongressBills_1973-2017.csv**"
   ]
  },
  {
   "cell_type": "code",
   "execution_count": 331,
   "metadata": {
    "collapsed": true
   },
   "outputs": [],
   "source": [
    "Bills.to_csv('CleanedData/CongressBills_1973-2017.csv',index=False)"
   ]
  },
  {
   "cell_type": "markdown",
   "metadata": {},
   "source": [
    "# Schema\n",
    "\n",
    "In the previous step we created **CleanedData/CongressBills_1973-2017.csv**. This File is in this GitHub So There is no need to Run steps till here again. Instead we can begin analysis from This Step.\n",
    "\n",
    "The schema for this file is:\n",
    "\n",
    "| Column               | Values                                                                                        |\n",
    "|----------------------|-----------------------------------------------------------------------------------------------|\n",
    "| Congress             | Number of the Congress: from 93 to 115                                                        |\n",
    "| Bill                 | Number of the bill, E.g. hr1                                                                  |\n",
    "| Type                 | Type of Bill; one of \"hconres\", \"hjres\", \"hr\", \"hres\", \"s\", \"sconres\", \"sjres\", \"sres\"        |\n",
    "| Status               | Final status of the Bill                                                                      |\n",
    "| CosponsorCount       | How many cosponsors the bill had                                                              |\n",
    "| SponsorParty         | Political party of the lead sponsor: Democrat, Republican, Other or empty                     |\n",
    "| DemocratCoSponsers   | How many democratic cosponsors the bill had                                                   |\n",
    "| RepublicanCoSponsers | How many republican cosponsors the bill had                                                   |\n",
    "| Subject              | Subject of the bill                                                                           |\n",
    "| Result               | Result of the bill based on the status. Can be: \"Enacted\", \"Passed\", \"Vetoed\" or \"Not Passed\" |\n",
    "| DemocratHouse        | Count of Democrat members of the House of Representatives at the beginning of that Congress   |\n",
    "| RepublicanHouse      | Count of Republican members of the House of Representatives at the beginning of that Congress |\n",
    "| OtherHouse           | Count of Other members of the House of Representatives at the beginning of that Congress      |\n",
    "| DemocratSenate       | Count of Democrat members of the Senate at the beginning of that Congress                     |\n",
    "| RepublicanSenate     | Count of Republican members of the Senate at the beginning of that Congress                   |\n",
    "| OtherSenate          | Count of Other members of the Senate at the beginning of that Congress                        |\n",
    "| Presidency           | Political Party of the President                                                              |\n",
    "| Year                 | Year of the Beginning of the Congress                                                         |\n",
    "| Chamber              | Originating Chamber of the bill:can be: House or Senate                                       |"
   ]
  },
  {
   "cell_type": "markdown",
   "metadata": {},
   "source": [
    "# Analysis"
   ]
  },
  {
   "cell_type": "markdown",
   "metadata": {},
   "source": [
    "Since the data is present in the file \"CleanedData/CongressBills_1973-2017.csv\" we can start from here directly wihout doing the earlier steps. \n",
    "So lets read the CSV file first"
   ]
  },
  {
   "cell_type": "code",
   "execution_count": 402,
   "metadata": {},
   "outputs": [
    {
     "name": "stdout",
     "output_type": "stream",
     "text": [
      "Populating the interactive namespace from numpy and matplotlib\n"
     ]
    },
    {
     "name": "stderr",
     "output_type": "stream",
     "text": [
      "C:\\Users\\salik\\Anaconda3\\lib\\site-packages\\IPython\\core\\magics\\pylab.py:160: UserWarning: pylab import has clobbered these variables: ['f']\n",
      "`%matplotlib` prevents importing * from pylab and numpy\n",
      "  \"\\n`%matplotlib` prevents importing * from pylab and numpy\"\n"
     ]
    }
   ],
   "source": [
    "# Importing Libraries\n",
    "import pandas as pd\n",
    "import matplotlib.pyplot as plt\n",
    "%pylab inline\n",
    "#pylab.rcParams['figure.figsize'] = (15, 8)\n",
    "\n",
    "# Reading the data\n",
    "Bills = pd.read_csv('CleanedData/CongressBills_1973-2017.csv')"
   ]
  },
  {
   "cell_type": "markdown",
   "metadata": {},
   "source": [
    "### Hypothesis 1\n",
    "\n",
    "Our First Hypothesis is that has the number of bills introduced in Congress changed over the years\n",
    "\n",
    "Therefore, Lets count the number of bills introduced per Congress"
   ]
  },
  {
   "cell_type": "code",
   "execution_count": 403,
   "metadata": {},
   "outputs": [],
   "source": [
    "#counting number of Rows per congress. \n",
    "#Each row is for a unique bill, so this counts bills as well\n",
    "billsPerCongress = pd.DataFrame({'count' : Bills.groupby( ['Year'] ).size()}).reset_index()"
   ]
  },
  {
   "cell_type": "markdown",
   "metadata": {},
   "source": [
    "Now we plot the number of bills per year"
   ]
  },
  {
   "cell_type": "code",
   "execution_count": 404,
   "metadata": {},
   "outputs": [
    {
     "data": {
      "image/png": "[encoded data removed]",
      "text/plain": [
       "<matplotlib.figure.Figure at 0x20711b463c8>"
      ]
     },
     "metadata": {},
     "output_type": "display_data"
    }
   ],
   "source": [
    "# To save the images we add a directory\n",
    "directories = os.listdir(\".\")\n",
    "# If \"Images\" is no present download\n",
    "if (\"Images\" not in directories):\n",
    "    # Make the directory \"Images\"\n",
    "    os.mkdir(\"Images\")\n",
    "\n",
    "f, ax = plt.subplots(1)\n",
    "ax.plot(billsPerCongress['Year'], billsPerCongress['count']/1000.0)\n",
    "plt.xlabel('Year')  # Add a label to the x-axis\n",
    "plt.ylabel('Number of bills (Thousands)')  # Add a label to the y-axis\n",
    "plt.title('Bills introduced in each Congress')  # Add a plot title\n",
    "ax.set_ylim(ymin=0)\n",
    "plt.savefig('Images/BillsPerCongress.png')\n",
    "plt.show(f)"
   ]
  },
  {
   "cell_type": "markdown",
   "metadata": {},
   "source": [
    "This is slightly weird, especially the huge drop in bills introduced after the First 2 Congresses.\n",
    "\n",
    "To invistigate I split the bills introduced by Type of Bills"
   ]
  },
  {
   "cell_type": "code",
   "execution_count": 405,
   "metadata": {},
   "outputs": [
    {
     "data": {
      "image/png": "[encoded data removed]",
      "text/plain": [
       "<matplotlib.figure.Figure at 0x207188ff588>"
      ]
     },
     "metadata": {},
     "output_type": "display_data"
    }
   ],
   "source": [
    "# Count Rows Grouped by Congress and Type (Using Beginning of year instead of Congress as it is more readable)\n",
    "billsPerCongressType = pd.DataFrame({'count' : Bills.groupby( ['Year', 'Type'] ).size()}).reset_index()\n",
    "\n",
    "#Dividing Count by 1000 as we want it as thousands\n",
    "billsPerCongressType['count'] = billsPerCongressType['count']/1000.0\n",
    "\n",
    "#Plotting the data\n",
    "fig, ax = plt.subplots(1,1);\n",
    "billsPerCongressType.groupby(\"Type\").plot(x=\"Year\", y=\"count\", ax=ax)\n",
    "plt.legend([v[0] for v in billsPerCongressType.groupby('Type')['Type']])\n",
    "plt.xlabel('Year')  # Add a label to the x-axis\n",
    "plt.ylabel('Number of bills (Thousands)')  # Add a label to the y-axis\n",
    "plt.title('Bills introduced in each Congress by Type')  # Add a plot title\n",
    "plt.savefig('Images/BillsPerCongressType.png')\n",
    "plt.show()"
   ]
  },
  {
   "cell_type": "markdown",
   "metadata": {},
   "source": [
    "This shows that there is a decrease in many different types, but especially in House Resolutions (HR). However this doesn't explain why this decrease happened. Therefore I will try to see if the number of bills introduced per congress changed only for one Subject or various different subjects between 93rd congress and 95th Congress.\n",
    "\n",
    "Lets Calculate number of Bills per Congress and Per Subject."
   ]
  },
  {
   "cell_type": "code",
   "execution_count": 406,
   "metadata": {},
   "outputs": [],
   "source": [
    "# Count Rows Grouped by Congress and Subject\n",
    "billsPerCongressSubject = pd.DataFrame({'count' : Bills.groupby( ['Congress', 'Subject'] ).size()}).reset_index()"
   ]
  },
  {
   "cell_type": "markdown",
   "metadata": {},
   "source": [
    "Lets now Filter this down to only the 93rd Congress and 95th Congress in 2 separate tables"
   ]
  },
  {
   "cell_type": "code",
   "execution_count": 407,
   "metadata": {},
   "outputs": [],
   "source": [
    "#Filtering by Congress and renaming the columns for a join\n",
    "Bills93 = billsPerCongressSubject[billsPerCongressSubject['Congress']==93][['Subject','count']]\n",
    "Bills93.columns = ['Subject','count93']\n",
    "Bills95 = billsPerCongressSubject[billsPerCongressSubject['Congress']==95][['Subject','count']]\n",
    "Bills95.columns = ['Subject','count95']"
   ]
  },
  {
   "cell_type": "markdown",
   "metadata": {},
   "source": [
    "Now Lets Join the 2 data sets by Type and find which Types decreased by the most between the 93rd and 95th Congress, to guess if the decrease was due to a few subjects only."
   ]
  },
  {
   "cell_type": "code",
   "execution_count": 408,
   "metadata": {},
   "outputs": [],
   "source": [
    "#We join The 2 data sets for 93rd and 95th Congress \n",
    "#and replace those Subjects we found in one and not the Other as 0\n",
    "BillsDifference = Bills93.merge(Bills95, left_on='Subject', right_on='Subject', how='outer')\n",
    "BillsDifference.fillna(0,inplace = True)\n",
    "\n",
    "#Calculate Which Subjects saw how much decrease in between the 2\n",
    "BillsDifference['Decrease'] = BillsDifference['count93'] - BillsDifference['count95']\n"
   ]
  },
  {
   "cell_type": "markdown",
   "metadata": {},
   "source": [
    "Now we look at the Top 10 Subjects with the highest decrease after sorting"
   ]
  },
  {
   "cell_type": "code",
   "execution_count": 409,
   "metadata": {},
   "outputs": [
    {
     "name": "stdout",
     "output_type": "stream",
     "text": [
      "                                Subject  count93  count95  Decrease\n",
      "920                      Social welfare   1047.0    468.0     579.0\n",
      "159                      Commemorations    470.0      0.0     470.0\n",
      "410  Government operations and politics    600.0    272.0     328.0\n",
      "790                 Private legislation   1938.0   1623.0     315.0\n",
      "479               International affairs    504.0    192.0     312.0\n",
      "328                   Federal employees    471.0    175.0     296.0\n",
      "422                              Health    293.0     26.0     267.0\n",
      "34                 Agriculture and food    306.0     64.0     242.0\n",
      "262                District of Columbia    233.0      0.0     233.0\n",
      "68   Armed forces and national security    496.0    265.0     231.0\n"
     ]
    }
   ],
   "source": [
    "# We now sort the data according this calculated ratio\n",
    "BillsDifference.sort_values(by='Decrease', ascending=False, inplace=True)\n",
    "\n",
    "print(BillsDifference[:10])"
   ]
  },
  {
   "cell_type": "markdown",
   "metadata": {},
   "source": [
    "We can see that the decrease in bills were in various different subjects, indicating that the cause might be due to Functioning itself. After researching however I couldn't find the cause. Therefore for now I would assume this is true, but especially in 1977 after the previous 2 Congresses.\n",
    "\n",
    "#### Hypothesis 2\n",
    "\n",
    "Has the ratio of Bills enacted changed over the years?\n",
    "\n",
    "For this we have to find the ratio of bills enacted over the years. Lets First count bills by type, result and congress"
   ]
  },
  {
   "cell_type": "code",
   "execution_count": 410,
   "metadata": {
    "collapsed": true
   },
   "outputs": [],
   "source": [
    "#Count How many bills of each type had what result\n",
    "billsPerCongressResultType = pd.DataFrame({'countResult' : Bills.groupby( ['Year', 'Result', 'Type']\n",
    "                                                                  ).size()}).reset_index()\n"
   ]
  },
  {
   "cell_type": "markdown",
   "metadata": {},
   "source": [
    "Now we count how many of these bills were enacted and do a filtering. Then we merge the data with billsPerCongressType to calculate ratio of bills enacted. After merging we divide the count of bills enacted with toal bills."
   ]
  },
  {
   "cell_type": "code",
   "execution_count": 411,
   "metadata": {},
   "outputs": [],
   "source": [
    "BillsEnacted  = billsPerCongressResultType[billsPerCongressResultType['Result'] == 'Enacted']\n",
    "\n",
    "# Recalculating Total Bills introduced per type\n",
    "# Count Rows Grouped by Congress and Type (Using Beginning of year instead of Congress as it is more readable)\n",
    "billsPerCongressType = pd.DataFrame({'count' : Bills.groupby( ['Year', 'Type'] ).size()}).reset_index()\n",
    "\n",
    "#Merging with Total bills Count\n",
    "EnactedRatio = BillsEnacted.merge(billsPerCongressType, left_on=['Year', 'Type'],\n",
    "                                  right_on=['Year', 'Type'], how='outer')\n",
    "\n",
    "# In case some year we didn't have data, filling NA with 0\n",
    "EnactedRatio.fillna(0,inplace = True)"
   ]
  },
  {
   "cell_type": "markdown",
   "metadata": {},
   "source": [
    "Calculate the Enacted Ratio by dividing the number of enacted bills by the total number of bills. Then we plot this chart."
   ]
  },
  {
   "cell_type": "code",
   "execution_count": 412,
   "metadata": {},
   "outputs": [
    {
     "data": {
      "image/png": "[encoded data removed]",
      "text/plain": [
       "<matplotlib.figure.Figure at 0x207134a4748>"
      ]
     },
     "metadata": {},
     "output_type": "display_data"
    }
   ],
   "source": [
    "EnactedRatio['EnactedRatio'] = EnactedRatio['countResult'] * 100 / EnactedRatio['count']\n",
    "\n",
    "#We are sorting first since that is needed for a graph\n",
    "EnactedRatio.sort_values(by=['Year','Type'], ascending=True, inplace=True)\n",
    "\n",
    "#Plotting the data\n",
    "fig, ax = plt.subplots(1,1);\n",
    "EnactedRatio.groupby(\"Type\").plot(x=\"Year\", y=\"EnactedRatio\", ax=ax)\n",
    "plt.legend([v[0] for v in EnactedRatio.groupby('Type')['Type']])\n",
    "plt.xlabel('Year')  # Add a label to the x-axis\n",
    "plt.ylabel('Percentage of Bills Enacted')  # Add a label to the y-axis\n",
    "plt.title('Percentage of Bills Enacted')  # Add a plot title\n",
    "plt.savefig('Images/SuccessPerCongressType.png')\n",
    "plt.show()"
   ]
  },
  {
   "cell_type": "markdown",
   "metadata": {},
   "source": [
    "There are 3 observations here.\n",
    "1. It seems that different types of bills have a different probability of getting enacted. This does make sense as for a Simple Resolution (hres and sres) to pass they just need to be passed by 1 Chamber while for a normal bill to become Law, they need to be passed by both chambers and then get signed by the President. For the rest of my analysis I will only be focussing on Simple Bills i.e. HR and S introduced in the House of Representatives and Senate respectively\n",
    "2. There is a data issue where HR and S bills have a 0% enctment before 1981 (97th Congress). I investigated and it seems that even if they were enacted, they are marked in the data set as Status=\"Referred\". For example in the 93rd Congress HR510 was passed as seen here: https://www.congress.gov/bill/93rd-congress/house-bill/510 However in our data set it is marked as Referred. This indicates a possible issue with ProPublica data set. Therefore I am dropping all results before the 97th Congress in this Analysis\n",
    "3. In the mos recent congress also there is a drop in Enctment Percentage. However this might be as some of these bills might get passed in the future. Therefore to ensure we don't accidentally reduce the number, I am also dropping the most recent Congress"
   ]
  },
  {
   "cell_type": "code",
   "execution_count": 413,
   "metadata": {},
   "outputs": [],
   "source": [
    "# Filtering out Congresses we don't want\n",
    "EnactedRatioFiltered = EnactedRatio[EnactedRatio['Year'] > 1979]\n",
    "EnactedRatioFiltered = EnactedRatioFiltered[EnactedRatioFiltered['Year'] < 2017]\n",
    "\n",
    "#Reducing to only HR and S Bills\n",
    "#EnactedRatio = EnactedRatio[EnactedRatio['Type'] in ['hr', 's']]"
   ]
  },
  {
   "cell_type": "code",
   "execution_count": 414,
   "metadata": {},
   "outputs": [
    {
     "data": {
      "image/png": "[encoded data removed]",
      "text/plain": [
       "<matplotlib.figure.Figure at 0x207118cad68>"
      ]
     },
     "metadata": {},
     "output_type": "display_data"
    }
   ],
   "source": [
    "#We are sorting first since that is needed for a graph\n",
    "EnactedRatioFiltered.sort_values(by=['Year','Type'], ascending=True, inplace=True)\n",
    "\n",
    "EnactedRatioFiltered = EnactedRatioFiltered[(EnactedRatioFiltered['Type'] == 's')|\n",
    "                                            (EnactedRatioFiltered['Type'] == 'hr')]\n",
    "\n",
    "#Plotting the data\n",
    "fig, ax = plt.subplots(1,1);\n",
    "EnactedRatioFiltered.groupby(\"Type\").plot(x=\"Year\", y=\"EnactedRatio\", ax=ax)\n",
    "plt.legend([v[0] for v in EnactedRatioFiltered.groupby('Type')['Type']])\n",
    "plt.xlabel('Year')  # Add a label to the x-axis\n",
    "plt.ylabel('Percentage of Bills Enacted')  # Add a label to the y-axis\n",
    "plt.title('Percentage of Bills Enacted')  # Add a plot title\n",
    "ax.set_ylim(ymin=0)\n",
    "plt.savefig('Images/BillsPerCongressTypeFiltered.png')\n",
    "plt.show()\n",
    "\n"
   ]
  },
  {
   "cell_type": "markdown",
   "metadata": {},
   "source": [
    "Here we can see that we do see a slight decline in bills being passed in 2007. \n",
    "\n",
    "### Hypothesis 3\n",
    "Does having more cosponsors lead to a higher chance of the bill getting passed in the originating chamber.\n",
    "\n",
    "Here I would like to point out that while earlier we were calculating the ratio of Bill getting enacted, now we are calculating chance of Getting Passed from the Originating Chamber. Therefore Bills that were not enacted but simply passed by the originating chamber are considered here as succesfully passed. In other words all bbills whose \"Result\" is not \"Not Passed\"\n",
    "\n",
    "First we want to keep our analysis only to Simple Bills (HR and S). Also due to the data issue mentioned earlier, we will only consider Congresses between 1981 and 2016. "
   ]
  },
  {
   "cell_type": "code",
   "execution_count": 415,
   "metadata": {
    "collapsed": true
   },
   "outputs": [],
   "source": [
    "#Filtering by year\n",
    "Bills = Bills[Bills['Year'] > 1979]\n",
    "Bills = Bills[Bills['Year'] < 2017]\n",
    "\n",
    "#Filtering by Type\n",
    "Bills = Bills[(Bills['Type'] == 's')| (Bills['Type'] == 'hr')]"
   ]
  },
  {
   "cell_type": "markdown",
   "metadata": {},
   "source": [
    "As earlier descibed , we now find which bills passed the first house. "
   ]
  },
  {
   "cell_type": "code",
   "execution_count": 416,
   "metadata": {
    "collapsed": true
   },
   "outputs": [],
   "source": [
    "Bills = Bills.assign(Passed = pd.Series(Bills[\"Result\"] != \"Not Passed\").values)"
   ]
  },
  {
   "cell_type": "markdown",
   "metadata": {},
   "source": [
    "Now Passed is a boolean variable which is only true if a bill passed the originating chamber.\n",
    "\n",
    "Now I tried to classify how likely a bill is to pass based on some factprs. The first factor is number of cosponsors. For this I chose Logistic Regressionas not only is it a classifier but also gives the Probability of a bill being passed. \n",
    "\n",
    "Since number of members are different in both the House and the Senate, I will do the analysis separately.\n",
    "\n",
    "First we import the Libraries required for doing Logistic Regression. For Logistic regression, I used http://blog.yhat.com/posts/logistic-regression-and-python.html to help me understand the code."
   ]
  },
  {
   "cell_type": "code",
   "execution_count": 417,
   "metadata": {
    "collapsed": true
   },
   "outputs": [],
   "source": [
    "import statsmodels.api as sm\n",
    "import numpy as np"
   ]
  },
  {
   "cell_type": "markdown",
   "metadata": {},
   "source": [
    "Now lets create a Logistic Regression model. First we do this only for HR Bills in the House."
   ]
  },
  {
   "cell_type": "code",
   "execution_count": 418,
   "metadata": {
    "collapsed": true
   },
   "outputs": [],
   "source": [
    "#Filtering by Type\n",
    "hr = Bills[Bills['Type'] == \"hr\"]\n",
    "\n",
    "#Only keeping the useful columns\n",
    "hrData = hr[['CosponsorCount','Passed']]"
   ]
  },
  {
   "cell_type": "markdown",
   "metadata": {},
   "source": [
    "hrData has 2 columns, the first is the count of CoSponsors. The Second is 0 if the bill did not pass in the originating Chamber, 1 if the bill did."
   ]
  },
  {
   "cell_type": "markdown",
   "metadata": {},
   "source": [
    "Now lets do a logistic regression. However Logistic regression requires an intercept. Therefore I am adding a variable intercept which is always equal to 1."
   ]
  },
  {
   "cell_type": "code",
   "execution_count": 419,
   "metadata": {},
   "outputs": [],
   "source": [
    "hrData = hrData.assign(Intercept = 1.0)"
   ]
  },
  {
   "cell_type": "markdown",
   "metadata": {},
   "source": [
    "Now we build the model"
   ]
  },
  {
   "cell_type": "code",
   "execution_count": 420,
   "metadata": {},
   "outputs": [
    {
     "name": "stdout",
     "output_type": "stream",
     "text": [
      "Optimization terminated successfully.\n",
      "         Current function value: 0.325253\n",
      "         Iterations 6\n"
     ]
    }
   ],
   "source": [
    "#This builds the model and fits with data\n",
    "logit = sm.Logit(hrData['Passed'], hrData[['Intercept','CosponsorCount']])\n",
    "result = logit.fit()"
   ]
  },
  {
   "cell_type": "markdown",
   "metadata": {},
   "source": [
    "Lets print the result now of this now"
   ]
  },
  {
   "cell_type": "code",
   "execution_count": 421,
   "metadata": {},
   "outputs": [
    {
     "name": "stdout",
     "output_type": "stream",
     "text": [
      "                           Logit Regression Results                           \n",
      "==============================================================================\n",
      "Dep. Variable:                 Passed   No. Observations:               108284\n",
      "Model:                          Logit   Df Residuals:                   108282\n",
      "Method:                           MLE   Df Model:                            1\n",
      "Date:                Sat, 09 Dec 2017   Pseudo R-squ.:                0.007604\n",
      "Time:                        18:55:26   Log-Likelihood:                -35220.\n",
      "converged:                       True   LL-Null:                       -35490.\n",
      "                                        LLR p-value:                2.178e-119\n",
      "==================================================================================\n",
      "                     coef    std err          z      P>|z|      [0.025      0.975]\n",
      "----------------------------------------------------------------------------------\n",
      "Intercept         -2.2851      0.011   -204.874      0.000      -2.307      -2.263\n",
      "CosponsorCount     0.0056      0.000     25.084      0.000       0.005       0.006\n",
      "==================================================================================\n"
     ]
    }
   ],
   "source": [
    "print(result.summary())"
   ]
  },
  {
   "cell_type": "markdown",
   "metadata": {},
   "source": [
    "We can see from the smal p-value that the results are significant and the cosponsor count is significant. \n",
    "This indicates that indeed having more cosponsors increases the probablity of a bill getting passed. We can also visualize this.\n",
    "\n",
    "Lets create a fake data which has Cosponsors equal to all values from 0 to 453 ( size of the House of Representatives)"
   ]
  },
  {
   "cell_type": "code",
   "execution_count": 422,
   "metadata": {},
   "outputs": [],
   "source": [
    "#Cosponsors from 0 to 435\n",
    "cosponsors = [k for k in range(0, 436)]\n",
    "intercepts = [1.0 for k in range(0, 436)]\n",
    "\n",
    "#Creating a data frame\n",
    "hrDataTest = pd.DataFrame([intercepts, cosponsors]).T\n",
    "hrDataTest.columns = [\"Intercept\", \"CosponsorCount\"]"
   ]
  },
  {
   "cell_type": "markdown",
   "metadata": {},
   "source": [
    "Now lets use this data to redict the chance of Passing of a bill in the house given its cosponsor count."
   ]
  },
  {
   "cell_type": "code",
   "execution_count": 423,
   "metadata": {
    "collapsed": true
   },
   "outputs": [],
   "source": [
    "#Using the model we trained above to predict\n",
    "predictions = result.predict(hrDataTest)"
   ]
  },
  {
   "cell_type": "markdown",
   "metadata": {},
   "source": [
    "Now lets plot cosponsor count with their predicted chance of passing."
   ]
  },
  {
   "cell_type": "code",
   "execution_count": 424,
   "metadata": {},
   "outputs": [
    {
     "data": {
      "image/png": "[encoded data removed]",
      "text/plain": [
       "<matplotlib.figure.Figure at 0x20714a242b0>"
      ]
     },
     "metadata": {},
     "output_type": "display_data"
    }
   ],
   "source": [
    "#Plotting the data\n",
    "fig, ax = plt.subplots(1,1);\n",
    "plt.plot(cosponsors,predictions)\n",
    "plt.xlabel('Number of Cosponsors')  # Add a label to the x-axis\n",
    "plt.ylabel('Probability of passing')  # Add a label to the y-axis\n",
    "plt.title('Probability of a bill passing when introduced in the House')  # Add a plot title\n",
    "plt.savefig('Images/ProbHouse.png')\n",
    "plt.show()"
   ]
  },
  {
   "cell_type": "markdown",
   "metadata": {},
   "source": [
    "We can see how as we increase the number of cosponsors, the chances of a bill passing increases a lot\n",
    "\n",
    "Now lets do the same for the Senate"
   ]
  },
  {
   "cell_type": "code",
   "execution_count": 425,
   "metadata": {
    "collapsed": true
   },
   "outputs": [],
   "source": [
    "#Filtering by Type\n",
    "s = Bills[Bills['Type'] == \"s\"]\n",
    "\n",
    "#Only keeping the useful columns\n",
    "sData = s[['CosponsorCount','Passed']]"
   ]
  },
  {
   "cell_type": "markdown",
   "metadata": {},
   "source": [
    "Adding an intercept and building the model to show the result"
   ]
  },
  {
   "cell_type": "code",
   "execution_count": 426,
   "metadata": {},
   "outputs": [
    {
     "name": "stdout",
     "output_type": "stream",
     "text": [
      "Optimization terminated successfully.\n",
      "         Current function value: 0.286669\n",
      "         Iterations 6\n",
      "                           Logit Regression Results                           \n",
      "==============================================================================\n",
      "Dep. Variable:                 Passed   No. Observations:                57890\n",
      "Model:                          Logit   Df Residuals:                    57888\n",
      "Method:                           MLE   Df Model:                            1\n",
      "Date:                Sat, 09 Dec 2017   Pseudo R-squ.:                0.009120\n",
      "Time:                        18:56:08   Log-Likelihood:                -16595.\n",
      "converged:                       True   LL-Null:                       -16748.\n",
      "                                        LLR p-value:                 2.091e-68\n",
      "==================================================================================\n",
      "                     coef    std err          z      P>|z|      [0.025      0.975]\n",
      "----------------------------------------------------------------------------------\n",
      "Intercept         -2.5132      0.017   -147.729      0.000      -2.547      -2.480\n",
      "CosponsorCount     0.0229      0.001     18.991      0.000       0.021       0.025\n",
      "==================================================================================\n"
     ]
    }
   ],
   "source": [
    "#hrData[:,'intercept'] = 1.0\n",
    "sData = sData.assign(Intercept = 1.0)\n",
    "\n",
    "#This builds the model and fits with data\n",
    "logit = sm.Logit(sData['Passed'], sData[['Intercept','CosponsorCount']])\n",
    "result = logit.fit()\n",
    "\n",
    "print(result.summary())"
   ]
  },
  {
   "cell_type": "markdown",
   "metadata": {},
   "source": [
    "Once again we see that Cosponsor Count is positive and extremely significant (p-value is much less than 0.05). Therefore we can see that having more co sponsors helps a lot in the senate as well. We also observe that the coefficient is higher here. This makes sense as the Senate has only 100 members and therefore each cosponsorship carries more weight. \n",
    "\n",
    "Not lets see this graphically as well similar to above."
   ]
  },
  {
   "cell_type": "code",
   "execution_count": 427,
   "metadata": {},
   "outputs": [
    {
     "data": {
      "image/png": "[encoded data removed]",
      "text/plain": [
       "<matplotlib.figure.Figure at 0x2070a1a6400>"
      ]
     },
     "metadata": {},
     "output_type": "display_data"
    }
   ],
   "source": [
    "#Cosponsors from 0 to 435\n",
    "cosponsors = [k for k in range(0, 101)]\n",
    "intercepts = [1.0 for k in range(0, 101)]\n",
    "\n",
    "#Creating a data frame\n",
    "sDataTest = pd.DataFrame([intercepts, cosponsors]).T\n",
    "sDataTest.columns = [\"Intercept\", \"CosponsorCount\"]\n",
    "\n",
    "#Using the model we trained above to predict\n",
    "predictions = result.predict(sDataTest)\n",
    "\n",
    "#Plotting the data\n",
    "fig, ax = plt.subplots(1,1);\n",
    "plt.plot(cosponsors,predictions)\n",
    "plt.xlabel('Number of Cosponsors')  # Add a label to the x-axis\n",
    "plt.ylabel('Probability of passing')  # Add a label to the y-axis\n",
    "plt.title('Probability of a bill passing when introduced in the Senate')  # Add a plot title\n",
    "plt.savefig('Images/ProbSenate.png')\n",
    "plt.show()"
   ]
  },
  {
   "cell_type": "markdown",
   "metadata": {},
   "source": [
    "Therefore we can confidently say that our third hypothesis that having more cosponsor helps a bill.\n",
    "\n",
    "### Hypothesis 4\n",
    "\n",
    "Are bills more likely to pass if introduced by someone whose party has the majority in that chamber. Also are bills sponsored by minority members getting passed at a lower rate?\n",
    "\n",
    "We first need to create a boolean variable which will tell us if the sponsor of the bill belongs to the majority party The function returns true if for a member there party has more members than the other party In case of a Senate tie, I break the Tie by giving it to party which controls the presidency and therefore the vice presidency (true between 1973 and 2017). For this we write the following function:"
   ]
  },
  {
   "cell_type": "code",
   "execution_count": 428,
   "metadata": {
    "collapsed": true
   },
   "outputs": [],
   "source": [
    "def isMajorityParty(sponsor, chamber,\n",
    "                   houseDemocrats, houseRepublicans,\n",
    "                   senateDemocrats, senateRepublicans, presidency):\n",
    "    \"\"\"\n",
    "    The function returns true if for a member there party has more members than the other party\n",
    "    In case of a Senate tie, I break the Tie by giving it to party which controls the presidency\n",
    "    and therefore the vice presidency (true between 1973 and 2017)\n",
    "    \"\"\"\n",
    "    #House\n",
    "    if(chamber == 'House'):\n",
    "        if(sponsor == 'Democrat'):\n",
    "            return (houseDemocrats > houseRepublicans)\n",
    "        else:\n",
    "            return (houseDemocrats < houseRepublicans)\n",
    "    #Senate\n",
    "    else:\n",
    "        if(senateDemocrats == senateRepublicans):\n",
    "            return (sponsor == presidency) # In case of a tie we say the president party has senate majority\n",
    "        elif(sponsor == 'Democrat'):\n",
    "            return (senateDemocrats > senateRepublicans)\n",
    "        else:\n",
    "            return (senateDemocrats < senateRepublicans)\n"
   ]
  },
  {
   "cell_type": "markdown",
   "metadata": {},
   "source": [
    "However we can only do this for bills whose sponsor is a member of either the Democrat or the Republican. There we filter by this."
   ]
  },
  {
   "cell_type": "code",
   "execution_count": 429,
   "metadata": {
    "collapsed": true
   },
   "outputs": [],
   "source": [
    "#Filtering out all bills whose sponsors are either not defined\n",
    "#Or not a member of the 2 main parties\n",
    "Bills = Bills[(Bills['SponsorParty'] == 'Democrat')| (Bills['SponsorParty'] == 'Republican')]"
   ]
  },
  {
   "cell_type": "markdown",
   "metadata": {},
   "source": [
    "Now we create the new variable which will indicate if the member is majority member or not"
   ]
  },
  {
   "cell_type": "code",
   "execution_count": 430,
   "metadata": {},
   "outputs": [],
   "source": [
    "sponsorMajority = []\n",
    "#Looping over each row to find the value\n",
    "for index, row in Bills.iterrows():\n",
    "    sponsorMajority.append(isMajorityParty(row['SponsorParty'], row['Chamber'],\n",
    "                   row['DemocratHouse'], row['RepublicanHouse'],\n",
    "                   row['DemocratSenate'], row['RepublicanSenate'], row['Presidency']))"
   ]
  },
  {
   "cell_type": "markdown",
   "metadata": {},
   "source": [
    "Adding this value to our table"
   ]
  },
  {
   "cell_type": "code",
   "execution_count": 431,
   "metadata": {
    "collapsed": true
   },
   "outputs": [],
   "source": [
    "Bills = Bills.assign(SponsorFromMajority = pd.Series(sponsorMajority).values)"
   ]
  },
  {
   "cell_type": "markdown",
   "metadata": {},
   "source": [
    "First lets analyse House bills and Senate Bills Seprately"
   ]
  },
  {
   "cell_type": "code",
   "execution_count": 432,
   "metadata": {
    "collapsed": true
   },
   "outputs": [],
   "source": [
    "HRBills = Bills[Bills['Type'] == 'hr']\n",
    "SBills = Bills[Bills['Type'] == 's']"
   ]
  },
  {
   "cell_type": "markdown",
   "metadata": {},
   "source": [
    "Now lets count number of bills introduced by majority members and minority members over the years and whether that has changed. This will be Group by count operation. Lets begin with House Bills."
   ]
  },
  {
   "cell_type": "code",
   "execution_count": 433,
   "metadata": {},
   "outputs": [
    {
     "data": {
      "image/png": "[encoded data removed]",
      "text/plain": [
       "<matplotlib.figure.Figure at 0x20713cddcf8>"
      ]
     },
     "metadata": {},
     "output_type": "display_data"
    }
   ],
   "source": [
    "# Count Rows Grouped by Congress and Type (Using Beginning of year instead of Congress as it is more readable)\n",
    "billsPerCongressMajorityType = pd.DataFrame({'count' : HRBills.groupby( ['Year', 'SponsorFromMajority',\n",
    "                                                                       'Type'] ).size()}).reset_index()\n",
    "\n",
    "#Plotting the data\n",
    "fig, ax = plt.subplots(1,1);\n",
    "billsPerCongressMajorityType.groupby(\"SponsorFromMajority\").plot(x=\"Year\", y=\"count\", ax=ax)\n",
    "#plt.legend([v[0] for v in billsPerCongressMajorityType.groupby('SponsorFromMajority')['SponsorFromMajority']])\n",
    "plt.legend([\"Minority\", \"Majority\"])\n",
    "plt.xlabel('Year')  # Add a label to the x-axis\n",
    "plt.ylabel('Number of Bills Introduced')  # Add a label to the y-axis\n",
    "#plt.title('Number of bills introduced by Members of the Majority and Minority Party in the House')  # Add a plot title\n",
    "plt.title('Number of bills introduced in the House') \n",
    "ax.set_ylim(ymin=0, ymax = 5000)\n",
    "plt.savefig('Images/BillsFromMemberHouse.png')\n",
    "plt.show()"
   ]
  },
  {
   "cell_type": "markdown",
   "metadata": {},
   "source": [
    "Doing the same for the Senate"
   ]
  },
  {
   "cell_type": "code",
   "execution_count": 434,
   "metadata": {},
   "outputs": [
    {
     "data": {
      "image/png": "[encoded data removed]",
      "text/plain": [
       "<matplotlib.figure.Figure at 0x20712aa8940>"
      ]
     },
     "metadata": {},
     "output_type": "display_data"
    }
   ],
   "source": [
    "# Count Rows Grouped by Congress and Type (Using Beginning of year instead of Congress as it is more readable)\n",
    "billsPerCongressMajorityType = pd.DataFrame({'count' : SBills.groupby( ['Year', 'SponsorFromMajority',\n",
    "                                                                       'Type'] ).size()}).reset_index()\n",
    "\n",
    "#Plotting the data\n",
    "fig, ax = plt.subplots(1,1);\n",
    "billsPerCongressMajorityType.groupby(\"SponsorFromMajority\").plot(x=\"Year\", y=\"count\", ax=ax)\n",
    "#plt.legend([v[0] for v in billsPerCongressMajorityType.groupby('SponsorFromMajority')['SponsorFromMajority']])\n",
    "plt.legend([\"Minority\", \"Majority\"])\n",
    "plt.xlabel('Year')  # Add a label to the x-axis\n",
    "plt.ylabel('Number of Bills Introduced')  # Add a label to the y-axis\n",
    "#plt.title('Number of bills introduced by Members of the Majority and Minority Party in the Senate')  # Add a plot title\n",
    "plt.title('Number of bills introduced in the Senate')\n",
    "ax.set_ylim(ymin=0, ymax = 5000)\n",
    "plt.savefig('Images/BillsPerMemberSenate.png')\n",
    "plt.show()"
   ]
  },
  {
   "cell_type": "markdown",
   "metadata": {},
   "source": [
    "Its interesting to note that while in the house we see that members of the majority introduce way more bills the same is not true in the senate.\n",
    "\n",
    "Lets now get how much percent of these bills get passed in their originating chamber."
   ]
  },
  {
   "cell_type": "code",
   "execution_count": 435,
   "metadata": {},
   "outputs": [
    {
     "data": {
      "image/png": "[encoded data removed]",
      "text/plain": [
       "<matplotlib.figure.Figure at 0x2070a20d5f8>"
      ]
     },
     "metadata": {},
     "output_type": "display_data"
    }
   ],
   "source": [
    "# Count Rows Grouped by Congress and Type (Using Beginning of year instead of Congress as it is more readable)\n",
    "billsPerCongressMajorityType = pd.DataFrame({'mean' : HRBills.groupby( ['Year', 'SponsorFromMajority',\n",
    "                                                                       'Type'] )['Passed'].mean()}).reset_index()\n",
    "billsPerCongressMajorityType['mean'] = billsPerCongressMajorityType['mean']*100\n",
    "#Plotting the data\n",
    "fig, ax = plt.subplots(1,1);\n",
    "billsPerCongressMajorityType.groupby(\"SponsorFromMajority\").plot(x=\"Year\", y=\"mean\", ax=ax)\n",
    "#plt.legend([v[0] for v in billsPerCongressMajorityType.groupby('SponsorFromMajority')['SponsorFromMajority']])\n",
    "plt.legend([\"Minority\", \"Majority\"])\n",
    "plt.xlabel('Year')  # Add a label to the x-axis\n",
    "plt.ylabel('percentage')  # Add a label to the y-axis\n",
    "plt.title('Percentage of Bills by sponsor that get passed in the house')  # Add a plot title\n",
    "ax.set_ylim(ymin=0, ymax = 20)\n",
    "plt.savefig('Images/PassPerMemberHouse.png')\n",
    "plt.show()"
   ]
  },
  {
   "cell_type": "markdown",
   "metadata": {},
   "source": [
    "The same for the Senate"
   ]
  },
  {
   "cell_type": "code",
   "execution_count": 436,
   "metadata": {},
   "outputs": [
    {
     "data": {
      "image/png": "[encoded data removed]",
      "text/plain": [
       "<matplotlib.figure.Figure at 0x207135db198>"
      ]
     },
     "metadata": {},
     "output_type": "display_data"
    }
   ],
   "source": [
    "# Count Rows Grouped by Congress and Type (Using Beginning of year instead of Congress as it is more readable)\n",
    "billsPerCongressMajorityType = pd.DataFrame({'mean' : SBills.groupby( ['Year', 'SponsorFromMajority',\n",
    "                                                                       'Type'] )['Passed'].mean()}).reset_index()\n",
    "billsPerCongressMajorityType['mean'] = billsPerCongressMajorityType['mean']*100\n",
    "#Plotting the data\n",
    "fig, ax = plt.subplots(1,1);\n",
    "billsPerCongressMajorityType.groupby(\"SponsorFromMajority\").plot(x=\"Year\", y=\"mean\", ax=ax)\n",
    "#plt.legend([v[0] for v in billsPerCongressMajorityType.groupby('SponsorFromMajority')['SponsorFromMajority']])\n",
    "plt.legend([\"Minority\", \"Majority\"])\n",
    "plt.xlabel('Year')  # Add a label to the x-axis\n",
    "plt.ylabel('percentage')  # Add a label to the y-axis\n",
    "plt.title('Percentage of Bills by sponsor that get passed in the Senate')  # Add a plot title\n",
    "ax.set_ylim(ymin=0, ymax = 20)\n",
    "plt.savefig('Images/PassPerMemberSenate.png')\n",
    "plt.show()"
   ]
  },
  {
   "cell_type": "markdown",
   "metadata": {},
   "source": [
    "Here I observe that once again in the House Bills with a sponsor who is a member of the majority party are much more likely to be passed. However The same is not true for the Senate especially in recent years. This could be due to the Filibuster in Congress which requires for a party to control only 41 members to block the vote on certain bills.\n",
    "\n",
    "The one dip in 2001 is due to a byelection which led to a situation where although the senate started out as as a 50-50 split, with the Vice President, Dick Cheney breaking the tie in the Republican's favour. However over the 2 years, the senate actually became a 49 -49 split between the 2 largest parties with 2 independents. Therefore techincally no party had a majority, a fact which my code didn't account for.\n",
    "\n",
    "However this doesn' explain the drop in pass percentage from 2009 onwards as those Senates had one party in control."
   ]
  },
  {
   "cell_type": "markdown",
   "metadata": {},
   "source": [
    "### Hypothesis 5 : Does bipartisanship affect a bill's chances of success\n",
    "\n",
    "Finally I would like to see if a bill being partisan increases its chances of success. I define the bipartisanity of a bill as the suppport of cosponsors of the party different to that of sponsors.\n",
    "\n",
    "Therefore I built a linear regression model that predicts the probability of a bill's success based on the following factors:\n",
    "1. Fellow Cosponsors: Numer of sponsor from the same party as the sponsor\n",
    "2. Opposition Cosponsors: Number of cosponsors from the opposite party as the sponsor\n",
    "3. Fellow Members: Members of the originating chamber of the same party as the sponsor\n",
    "\n",
    "The first 2 factors contribute to the bipartisanship\n",
    "\n",
    "The last one is indicator of the sponsor's party being a majority or not. Instead of a boolean variable, by keeping the actual count it also includes the size of majority. \n",
    "\n",
    "I have not included opposition members of the congress as that number is very strongly correlated with the size of fellow members in a negative manner.\n",
    "\n",
    "We begin by defining functions that calculate these 3 values, similar to how we calculated if the sponsors party has the majority."
   ]
  },
  {
   "cell_type": "code",
   "execution_count": 437,
   "metadata": {},
   "outputs": [],
   "source": [
    "def getFellowMember(sponsor, chamber,\n",
    "                   houseDemocrats, houseRepublicans,\n",
    "                   senateDemocrats, senateRepublicans):\n",
    "    \"\"\"\n",
    "    The function returns number of members of the chamber of the same political party as the lead sponsor\n",
    "    \"\"\"\n",
    "    #House\n",
    "    if chamber == 'House':\n",
    "        if sponsor == 'Democrat':\n",
    "            return houseDemocrats\n",
    "        else:\n",
    "            return houseRepublicans\n",
    "    #Senate\n",
    "    else:\n",
    "        if sponsor == 'Democrat':\n",
    "            return senateDemocrats\n",
    "        else:\n",
    "            return  senateRepublicans\n",
    "\n",
    "def getFellowSponsor(sponsorParty, DemocratCosponsorCount, RepublicansCosponsorCount):\n",
    "    \"\"\"\n",
    "    The function returns number of cosponser of the same political party as the lead sponsor\n",
    "    \"\"\"\n",
    "    if sponsorParty == 'Democrat':\n",
    "        return DemocratCosponsorCount\n",
    "    else:\n",
    "        return RepublicansCosponsorCount\n",
    "\n",
    "def getOppositeSponsor(sponsorParty, DemocratCosponsorCount, RepublicansCosponsorCount):\n",
    "    \"\"\"\n",
    "    The function returns number of cosponser of the different political party as the lead sponsor\n",
    "    \"\"\"\n",
    "    if(sponsorParty == 'Republican'):\n",
    "        return DemocratCosponsorCount\n",
    "    else:\n",
    "        return RepublicansCosponsorCount"
   ]
  },
  {
   "cell_type": "markdown",
   "metadata": {},
   "source": [
    "Now we calculate this value for all the rows in Bills. Note: Already this only includes data for which we have a sponsor from one of the 2 main parties."
   ]
  },
  {
   "cell_type": "code",
   "execution_count": 438,
   "metadata": {},
   "outputs": [],
   "source": [
    "fellowMember, fellowSponsor, oppositeSponsor = [], [], []\n",
    "#Looping over each row to find the value\n",
    "for index, row in Bills.iterrows():\n",
    "    fellowMember.append(getFellowMember(row['SponsorParty'], row['Chamber'],\n",
    "                   row['DemocratHouse'], row['RepublicanHouse'],\n",
    "                   row['DemocratSenate'], row['RepublicanSenate']))\n",
    "    fellowSponsor.append(getFellowSponsor(row['SponsorParty'],row['DemocratCoSponsers'],row['RepublicanCoSponsers']))\n",
    "    oppositeSponsor.append(getOppositeSponsor(row['SponsorParty'],row['DemocratCoSponsers'],row['RepublicanCoSponsers']))\n",
    "    "
   ]
  },
  {
   "cell_type": "markdown",
   "metadata": {},
   "source": [
    "Adding these values to our table"
   ]
  },
  {
   "cell_type": "code",
   "execution_count": 439,
   "metadata": {
    "collapsed": true
   },
   "outputs": [],
   "source": [
    "Bills = Bills.assign(FellowMember = pd.Series(fellowMember).values)\n",
    "Bills = Bills.assign(FellowSponsor = pd.Series(fellowSponsor).values)\n",
    "Bills = Bills.assign(oppositeSponsor = pd.Series(oppositeSponsor).values)"
   ]
  },
  {
   "cell_type": "markdown",
   "metadata": {},
   "source": [
    "Once again we split our data inot the House and Senate separately."
   ]
  },
  {
   "cell_type": "code",
   "execution_count": 440,
   "metadata": {
    "collapsed": true
   },
   "outputs": [],
   "source": [
    "HRBills = Bills[Bills['Type'] == 'hr']\n",
    "SBills = Bills[Bills['Type'] == 's']"
   ]
  },
  {
   "cell_type": "markdown",
   "metadata": {},
   "source": [
    "Applying Logistic regression to only house bills like earlier"
   ]
  },
  {
   "cell_type": "code",
   "execution_count": 441,
   "metadata": {},
   "outputs": [
    {
     "name": "stdout",
     "output_type": "stream",
     "text": [
      "Optimization terminated successfully.\n",
      "         Current function value: 0.318088\n",
      "         Iterations 7\n",
      "                           Logit Regression Results                           \n",
      "==============================================================================\n",
      "Dep. Variable:                 Passed   No. Observations:               107947\n",
      "Model:                          Logit   Df Residuals:                   107943\n",
      "Method:                           MLE   Df Model:                            3\n",
      "Date:                Sat, 09 Dec 2017   Pseudo R-squ.:                 0.03055\n",
      "Time:                        18:57:00   Log-Likelihood:                -34337.\n",
      "converged:                       True   LL-Null:                       -35419.\n",
      "                                        LLR p-value:                     0.000\n",
      "===================================================================================\n",
      "                      coef    std err          z      P>|z|      [0.025      0.975]\n",
      "-----------------------------------------------------------------------------------\n",
      "Intercept          -5.5060      0.087    -63.260      0.000      -5.677      -5.335\n",
      "FellowMember        0.0142      0.000     38.235      0.000       0.013       0.015\n",
      "FellowSponsor       0.0027      0.000      6.301      0.000       0.002       0.004\n",
      "oppositeSponsor     0.0105      0.001     15.971      0.000       0.009       0.012\n",
      "===================================================================================\n"
     ]
    }
   ],
   "source": [
    "#Only keeping the useful columns\n",
    "hrData = HRBills[['FellowMember','FellowSponsor','oppositeSponsor','Passed']]\n",
    "\n",
    "#Adding the intercept\n",
    "hrData = hrData.assign(Intercept = 1.0)\n",
    "\n",
    "#Building the logistic regression model\n",
    "#This builds the model and fits with data\n",
    "logit = sm.Logit(hrData['Passed'], hrData[['Intercept','FellowMember','FellowSponsor','oppositeSponsor']])\n",
    "result = logit.fit()\n",
    "\n",
    "#print results\n",
    "print(result.summary())"
   ]
  },
  {
   "cell_type": "markdown",
   "metadata": {},
   "source": [
    "Here we clearly observe that while all 3 variables are significant, oppositeSponsor has a higher coefficient than FellowSponsor. This indicates that getting a cosponsor from a party different from your to cosponsor your bill increrases the chances of passing much more than getting someone from the same party as the the sponsor.\n",
    "\n",
    "Doing the same for Senate:"
   ]
  },
  {
   "cell_type": "code",
   "execution_count": 442,
   "metadata": {},
   "outputs": [
    {
     "name": "stdout",
     "output_type": "stream",
     "text": [
      "Optimization terminated successfully.\n",
      "         Current function value: 0.281557\n",
      "         Iterations 7\n",
      "                           Logit Regression Results                           \n",
      "==============================================================================\n",
      "Dep. Variable:                 Passed   No. Observations:                57058\n",
      "Model:                          Logit   Df Residuals:                    57054\n",
      "Method:                           MLE   Df Model:                            3\n",
      "Date:                Sat, 09 Dec 2017   Pseudo R-squ.:                 0.02836\n",
      "Time:                        18:57:00   Log-Likelihood:                -16065.\n",
      "converged:                       True   LL-Null:                       -16534.\n",
      "                                        LLR p-value:                5.687e-203\n",
      "===================================================================================\n",
      "                      coef    std err          z      P>|z|      [0.025      0.975]\n",
      "-----------------------------------------------------------------------------------\n",
      "Intercept          -6.1078      0.183    -33.422      0.000      -6.466      -5.750\n",
      "FellowMember        0.0709      0.004     20.135      0.000       0.064       0.078\n",
      "FellowSponsor      -0.0098      0.003     -3.455      0.001      -0.015      -0.004\n",
      "oppositeSponsor     0.0699      0.004     19.879      0.000       0.063       0.077\n",
      "===================================================================================\n"
     ]
    }
   ],
   "source": [
    "#Only keeping the useful columns\n",
    "sData = SBills[['FellowMember','FellowSponsor','oppositeSponsor','Passed']]\n",
    "\n",
    "#Adding the intercept\n",
    "sData = sData.assign(Intercept = 1.0)\n",
    "\n",
    "#Building the logistic regression model\n",
    "#This builds the model and fits with data\n",
    "logit = sm.Logit(sData['Passed'], sData[['Intercept','FellowMember','FellowSponsor','oppositeSponsor']])\n",
    "result = logit.fit()\n",
    "\n",
    "#print results\n",
    "print(result.summary())"
   ]
  },
  {
   "cell_type": "markdown",
   "metadata": {},
   "source": [
    "We see that while number of members of the party in the chamber still has a high coeffcient, the number of cosponsosrs from the same party as the sponsor has significant negative coeffcient (although very slight). However number of sponsors from the opposite party carries a large significant positive coefficient. This is explainable as it shows that in the Senate in particular, having bipartisan support for a bill really helps its chances. The slight negative coefficient for cosponsors of the same party is due to the fact that if a bill has only support from one party and not the other its unlikely to pass. Therefore while bills that pass get support from both sides of the aisle, those that don't pass often get support only from one side, thereby making that coefficient negative.\n",
    "\n",
    "From this we can conclude that in the House and the Senate, bipartisan support definitely helps a bill in passing.\n",
    "\n",
    "### Hypothesis 6: Is bipartisanship decreasing in the Congress\n",
    "\n",
    "Lets define a way to define a bill is bipartisan. I propose that a bill should have at least some support for a bill to be considered bipartisan. Therefore I define the following 2 criteria:\n",
    "\n",
    "1. Supported: A bill is well supported if it has 20 cosponsors in the House of Representatives or 10 in the Senate.\n",
    "2. BiPartisan: A bill is bipartisan if at least 20% of the cosponsors are from each othe 2 parties. \n",
    "\n",
    "Lets define these 2 functions"
   ]
  },
  {
   "cell_type": "code",
   "execution_count": 443,
   "metadata": {},
   "outputs": [],
   "source": [
    "def isBiPartisan(DC, RC, chamber):\n",
    "    \"\"\"\n",
    "    This returns true if a bill is bipartisan\n",
    "    \"\"\"\n",
    "    if chamber == 'House':\n",
    "        l = 20\n",
    "    else:\n",
    "        l = 10\n",
    "    if (((DC + RC) >= l) and (DC >= (RC/4.0)) and (RC >= (DC/4.0))):\n",
    "        return True;\n",
    "    else:\n",
    "        return False;\n",
    "        \n",
    "def isSupported(DC, RC, chamber):\n",
    "    \"\"\"\n",
    "    This returns true if a bill is well supported\n",
    "    \"\"\"\n",
    "    if chamber == 'House':\n",
    "        l = 20\n",
    "    else:\n",
    "        l = 10\n",
    "    if ((DC + RC) >= l):\n",
    "        return True;\n",
    "    else:\n",
    "        return False;"
   ]
  },
  {
   "cell_type": "markdown",
   "metadata": {},
   "source": [
    "We now calculate these values for all rows/bills."
   ]
  },
  {
   "cell_type": "code",
   "execution_count": 444,
   "metadata": {
    "collapsed": true
   },
   "outputs": [],
   "source": [
    "supported, bipartisan = [], []\n",
    "#Looping over each row to find the value\n",
    "for index, row in Bills.iterrows():\n",
    "    supported.append(isSupported(row['DemocratCoSponsers'],row['RepublicanCoSponsers'],row['Chamber']))\n",
    "    bipartisan.append(isBiPartisan(row['DemocratCoSponsers'],row['RepublicanCoSponsers'],row['Chamber']))\n",
    "    "
   ]
  },
  {
   "cell_type": "code",
   "execution_count": 445,
   "metadata": {
    "collapsed": true
   },
   "outputs": [],
   "source": [
    "Bills = Bills.assign(sup = pd.Series(sup).values)\n",
    "Bills = Bills.assign(bip = pd.Series(bip).values)"
   ]
  },
  {
   "cell_type": "markdown",
   "metadata": {},
   "source": [
    "We now need to calculate how many of the supported bills are bipartisan. So we filter down to well supported bills only."
   ]
  },
  {
   "cell_type": "code",
   "execution_count": 446,
   "metadata": {},
   "outputs": [],
   "source": [
    "BillsSupported = Bills[Bills['sup']==True]"
   ]
  },
  {
   "cell_type": "markdown",
   "metadata": {},
   "source": [
    "Now we count what is the ratio of well supported bills that are bipartisan."
   ]
  },
  {
   "cell_type": "code",
   "execution_count": 449,
   "metadata": {},
   "outputs": [
    {
     "data": {
      "image/png": "[encoded data removed]",
      "text/plain": [
       "<matplotlib.figure.Figure at 0x20713dfdb00>"
      ]
     },
     "metadata": {},
     "output_type": "display_data"
    }
   ],
   "source": [
    "# Count Rows Grouped by Congress and Type (Using Beginning of year instead of Congress as it is more readable)\n",
    "billsPerpartisanship = pd.DataFrame({'mean' : BillsSupported.groupby( ['Year', \"Chamber\"] )['bip'].mean()}).reset_index()\n",
    "\n",
    "# Multiplying by 100 as we want to calculate percentage\n",
    "billsPerpartisanship['mean'] = billsPerpartisanship['mean']*100\n",
    "\n",
    "#Plotting the data\n",
    "fig, ax = plt.subplots(1,1);\n",
    "billsPerpartisanship.groupby(\"Chamber\").plot(x=\"Year\", y=\"mean\", ax=ax)\n",
    "plt.legend([v[0] for v in billsPerpartisanship.groupby('Chamber')['Chamber']])\n",
    "#plt.legend([\"Minority\", \"Majority\"])\n",
    "plt.xlabel('Year')  # Add a label to the x-axis\n",
    "plt.ylabel('Percentage of bills that had Bipartisan support')  # Add a label to the y-axis\n",
    "plt.title('Supported Bills that are Bipartisan')  # Add a plot title\n",
    "#ax.set_ylim(ymin=0, ymax = 20)\n",
    "plt.savefig('Images/Bipartisan.png')\n",
    "plt.show()"
   ]
  },
  {
   "cell_type": "markdown",
   "metadata": {},
   "source": [
    "From here we can observe that indeed bipartisan support has decreased a lot over the ages and could be a cause of what prevents bills from passing and slight recent decrease in amount of bills that can get enacted as laws."
   ]
  },
  {
   "cell_type": "markdown",
   "metadata": {},
   "source": [
    "# Conclusion\n",
    "\n",
    "We concluded that the number of bills introduced in congress each year has mostly remained same after 1977 onwards. However the ratio of bills that become enacted has decreased a bit over the last few years.\n",
    "\n",
    "From our analysis, we can see that indeed having more cosponsors increases the chances of a bill passing congress and becoming law. Also while having cosponsors from one party is slightly helpful, having bipartisan support from both sides of a party helps the bill's chances a lot more.\n",
    "\n",
    "However we also showed that unfortunately, bipartisanship has been decreasing in congress a lot over the years, possibly explaining the recent decrease in the number of bills that get passed, giving an impression of gridlock in the congress."
   ]
  },
  {
   "cell_type": "markdown",
   "metadata": {},
   "source": [
    "# Issues\n",
    "\n",
    "These are the possible issues with my analysis:\n",
    "\n",
    "1. Not all bills are equal. In my analysis I am treating bills as equal to each other. However a bill like healthcare is obviously much more important than another that just changes the name of a park. Therefore that should be factored in.\n",
    "2. For counting the number of members of a political party, I used the count from the beginning of the congress. However some members might have resigned over the 2 years and this changed the numbers. This could have led to situations like 2001-2002 Senate as mentioned above which went from a tie break republican majority to a 49-49-2 split where neither party had a majority.\n",
    "3. The relationship between a bill's passing probability and cosponsors is probably not linear in a logistic manner. However as we just seeing the coefficient, that should be fine.\n",
    "4. The analysis doesn't imply that passing more bills is good for congress. Some could say that increased bipartisanship might lead to a decrease in opposition or decrease in debate. Therefore this should simply be seen as a statistical analysis that leads to future research\n",
    "\n",
    "# Future work\n",
    "The data about bills introduced in congress is a treasure trove. Some of the possible future research that we can do:\n",
    "1. Do different committees have different procedures and if so does that lead to difference is probability of success of the bill?\n",
    "2. How likely is it for women to Sponsor/ Cosponsor bills? Do these bills have a similar chance of success? This is especially important considering the low proportion of women in the Congress both currently and historically. The US GitHub does contain data for gender for the Legislators. \n",
    "3. Using the Wikipedia data for each Legislator, provided in US GitHub account, we could try obtaining more information and see how that affects their bills. For example, are legislators elected with a larger majority more likely to introduce more bills?\n",
    "\n",
    "\n",
    "# License\n",
    "My research would be released under an MIT License and the data is all public domain.\n"
   ]
  },
  {
   "cell_type": "markdown",
   "metadata": {},
   "source": [
    "# Tools and Libraries Used\n",
    "\n",
    "The analysis was done using python version 3.5.3\n",
    "\n",
    "I used the following libraries:\n",
    "1. os\n",
    "2. json\n",
    "3. numpy\n",
    "4. pandas\n",
    "5. zipfile\n",
    "6. urlib\n",
    "7. matplotlib\n",
    "8. statsmodels\n"
   ]
  }
 ],
 "metadata": {
  "kernelspec": {
   "display_name": "Python 3",
   "language": "python",
   "name": "python3"
  },
  "language_info": {
   "codemirror_mode": {
    "name": "ipython",
    "version": 3
   },
   "file_extension": ".py",
   "mimetype": "text/x-python",
   "name": "python",
   "nbconvert_exporter": "python",
   "pygments_lexer": "ipython3",
   "version": "3.5.3"
  }
 },
 "nbformat": 4,
 "nbformat_minor": 2
}
